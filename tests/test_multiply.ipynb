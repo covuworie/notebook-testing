{
 "cells": [
  {
   "cell_type": "markdown",
   "metadata": {},
   "source": [
    "# Unit testing in Jupyter notebooks with ipytest: Multiply tests\n",
    "\n",
    "## Table of contents\n",
    "1. [Introduction](#introduction)\n",
    "2. [Setup](#setup)\n",
    "3. [Tests](#tests)\n",
    "3. [Technical Issues](#technical-issues)\n",
    "\n",
    "## Introduction <a name=\"introduction\"></a>\n",
    "\n",
    "**Unit tests** in **Jupyter notebooks** can be run using the excellent [ipytest](https://github.com/chmp/ipytest) package. It supports both [pytest](https://docs.pytest.org/en/latest/) and [unittest](https://docs.python.org/3/library/unittest.html).\n",
    "\n",
    "This *notebook* shows examples of writing tests with both frameworks. A simple example of multiplying two ints or floats is used.\n",
    "\n",
    "To run the tests in this *notebook*, the functions they are testing in [multiply.ipynb](../notebooks/multiply.ipynb) will need to loaded into the same [IPython](https://ipython.readthedocs.io/en/stable/) interactive namespace. The simplest way to do this during development is to use the excellent [JupyterLab](https://github.com/jupyterlab/jupyterlab) computational environment to connect both notebooks to the same [kernel](http://jupyter.readthedocs.io/en/latest/architecture/how_jupyter_ipython_work.html#the-ipython-kernel). This can be achieved through the *Kernel > Change Kernel* option in the JupyterLab user interface. Please see the [JupyterLab documentation](http://jupyterlab.readthedocs.io/en/stable/) for more information on [managing kernels](http://jupyterlab.readthedocs.io/en/stable/user/running.html)."
   ]
  },
  {
   "cell_type": "markdown",
   "metadata": {},
   "source": [
    "## Setup <a name=\"setup\"></a>"
   ]
  },
  {
   "cell_type": "code",
   "execution_count": 3,
   "metadata": {},
   "outputs": [],
   "source": [
    "import unittest\n",
    "\n",
    "import ipytest\n",
    "import numpy.testing as npt"
   ]
  },
  {
   "cell_type": "markdown",
   "metadata": {},
   "source": [
    "Specify the following options to pass to pytest:\n",
    "\n",
    "* Verbose output\n",
    "* Colored output\n",
    "\n",
    "For more information see [pytest options](http://pytest.readthedocs.io/en/reorganize-docs/new-docs/user/commandlineuseful.html). "
   ]
  },
  {
   "cell_type": "code",
   "execution_count": 4,
   "metadata": {},
   "outputs": [],
   "source": [
    "PYTEST_OPTIONS = ['-v', '--color=yes']"
   ]
  },
  {
   "cell_type": "markdown",
   "metadata": {},
   "source": [
    "Change the following constant to True to specify to run the tests with *unittest* instead of *pytest*. Unittest is very basic and has less options than pytest. **The output is not pretty** and it has **verbose syntax**. I suppose it does have the advantage of shipping with the python standard library, but I still prefer *pytest*."
   ]
  },
  {
   "cell_type": "code",
   "execution_count": 5,
   "metadata": {},
   "outputs": [],
   "source": [
    "UNIT_TEST = False"
   ]
  },
  {
   "cell_type": "markdown",
   "metadata": {},
   "source": [
    "Load some useful utility functions:"
   ]
  },
  {
   "cell_type": "code",
   "execution_count": 6,
   "metadata": {},
   "outputs": [],
   "source": [
    "# %load main_module.py\n",
    "\"\"\"This file must be loaded into a Jupyter notebook (using the `%load` magic) and executed there to work\n",
    "   correctly.\n",
    "   Note: \n",
    "       If it is placed into a module and imported into the notebook then `__name__` will be the module\n",
    "       name and `__file__` will be in the `globals` object.\n",
    "\"\"\"\n",
    "\n",
    "def is_main_module():\n",
    "    \"\"\"Returns whether this notebook is the main module (i.e. not being run from another notebook).Taken from: \n",
    "       https://blog.sicara.com/present-data-science-results-jupyter-notebook-import-into-another-108433bc8505\n",
    "    Returns:\n",
    "        True if this notebook is the main module, False otherwise.\n",
    "    \"\"\"\n",
    "    return __name__ == '__main__' and '__file__' not in globals()"
   ]
  },
  {
   "cell_type": "markdown",
   "metadata": {},
   "source": [
    "If this *notebook* is being run from another *notebook* (which it shouldn't be) or program (i.e. a *test runner* such as *pytest* or *unittest*) then \"run\" the implementation notebook. This is done for import purposes. More to come on this later."
   ]
  },
  {
   "cell_type": "code",
   "execution_count": 7,
   "metadata": {},
   "outputs": [],
   "source": [
    "if not is_main_module():\n",
    "    %run ../notebooks/multiply.ipynb"
   ]
  },
  {
   "cell_type": "markdown",
   "metadata": {},
   "source": [
    "## Tests <a name=\"tests\"></a>\n",
    "\n",
    "It is possible to create test cases inside of classes:"
   ]
  },
  {
   "cell_type": "code",
   "execution_count": 8,
   "metadata": {},
   "outputs": [
    {
     "name": "stdout",
     "output_type": "stream",
     "text": [
      "\u001b[1m============================= test session starts =============================\u001b[0m\n",
      "platform win32 -- Python 3.6.4, pytest-3.5.1, py-1.5.3, pluggy-0.6.0 -- c:\\users\\covuworie\\appdata\\local\\programs\\python\\python36\\python.exe\n",
      "cachedir: .pytest_cache\n",
      "rootdir: C:\\Users\\covuworie\\D-Drive\\unit_testing\\tests, inifile:\n",
      "\u001b[1mcollecting ... \u001b[0mcollected 2 items\n",
      "\n",
      "test_multiply.py::TestMultiply::test_multiply <- <ipython-input-8-6dc69b468293> \u001b[32mPASSED\u001b[0m\u001b[36m [ 50%]\u001b[0m\n",
      "test_multiply.py::TestMultiply::test_multiply_floats <- <ipython-input-8-6dc69b468293> \u001b[32mPASSED\u001b[0m\u001b[36m [100%]\u001b[0m\n",
      "\n",
      "\u001b[32m\u001b[1m========================== 2 passed in 0.04 seconds ===========================\u001b[0m\n"
     ]
    }
   ],
   "source": [
    "if is_main_module():\n",
    "    ipytest.clean_tests(pattern='test_*')\n",
    "    ipytest.clean_tests(pattern='Test*')\n",
    "\n",
    "class TestMultiply(unittest.TestCase):\n",
    "    def test_multiply(self):\n",
    "        self.assertEqual(multiply(2, 2), 4)\n",
    "    \n",
    "    def test_multiply_floats(self):\n",
    "        npt.assert_allclose(multiply_floats(0.1, 0.2), 0.02)\n",
    "\n",
    "if is_main_module():\n",
    "    if UNIT_TEST:\n",
    "        ipytest.run_tests(doctest=True, items={'TestMultiply': globals()['TestMultiply'],\n",
    "                                               'multiply': globals()['multiply']});\n",
    "    else: \n",
    "        ipytest.run_pytest(filename='test_multiply.ipynb', pytest_options=PYTEST_OPTIONS);"
   ]
  },
  {
   "cell_type": "markdown",
   "metadata": {},
   "source": [
    "It is possible to create test cases at the global level:"
   ]
  },
  {
   "cell_type": "code",
   "execution_count": 9,
   "metadata": {},
   "outputs": [
    {
     "name": "stdout",
     "output_type": "stream",
     "text": [
      "\u001b[1m============================= test session starts =============================\u001b[0m\n",
      "platform win32 -- Python 3.6.4, pytest-3.5.1, py-1.5.3, pluggy-0.6.0 -- c:\\users\\covuworie\\appdata\\local\\programs\\python\\python36\\python.exe\n",
      "cachedir: .pytest_cache\n",
      "rootdir: C:\\Users\\covuworie\\D-Drive\\unit_testing\\tests, inifile:\n",
      "\u001b[1mcollecting ... \u001b[0mcollected 1 item\n",
      "\n",
      "test_multiply.py::test_multiply <- <ipython-input-9-bf1d4ef66605> \u001b[32mPASSED\u001b[0m\u001b[36m [100%]\u001b[0m\n",
      "\n",
      "\u001b[32m\u001b[1m========================== 1 passed in 0.02 seconds ===========================\u001b[0m\n"
     ]
    }
   ],
   "source": [
    "if is_main_module():\n",
    "    ipytest.clean_tests(pattern='test_*')\n",
    "    ipytest.clean_tests(pattern='Test*')\n",
    "\n",
    "def test_multiply():\n",
    "    npt.assert_equal(multiply(2, 2), 4)\n",
    "\n",
    "if is_main_module():\n",
    "    if UNIT_TEST:\n",
    "        ipytest.run_tests(doctest=True, items={'test_multiply': globals()['test_multiply'],\n",
    "                                               'multiply': globals()['multiply']});\n",
    "    else:\n",
    "        ipytest.run_pytest(filename='test_multiply.ipynb', pytest_options=PYTEST_OPTIONS);"
   ]
  },
  {
   "cell_type": "code",
   "execution_count": 10,
   "metadata": {},
   "outputs": [
    {
     "name": "stdout",
     "output_type": "stream",
     "text": [
      "\u001b[1m============================= test session starts =============================\u001b[0m\n",
      "platform win32 -- Python 3.6.4, pytest-3.5.1, py-1.5.3, pluggy-0.6.0 -- c:\\users\\covuworie\\appdata\\local\\programs\\python\\python36\\python.exe\n",
      "cachedir: .pytest_cache\n",
      "rootdir: C:\\Users\\covuworie\\D-Drive\\unit_testing\\tests, inifile:\n",
      "\u001b[1mcollecting ... \u001b[0mcollected 1 item\n",
      "\n",
      "test_multiply.py::test_multiply_floats <- <ipython-input-10-3972b686661a> \u001b[32mPASSED\u001b[0m\u001b[36m [100%]\u001b[0m\n",
      "\n",
      "\u001b[32m\u001b[1m========================== 1 passed in 0.03 seconds ===========================\u001b[0m\n"
     ]
    }
   ],
   "source": [
    "if is_main_module():\n",
    "    ipytest.clean_tests(pattern='test_*')\n",
    "    ipytest.clean_tests(pattern='Test*')\n",
    "\n",
    "def test_multiply_floats():\n",
    "    npt.assert_allclose(multiply_floats(0.1, 0.2), 0.02)\n",
    "\n",
    "if is_main_module():\n",
    "    if UNIT_TEST:\n",
    "        ipytest.run_tests(doctest=False, \n",
    "                          items={'test_multiply_floats': globals()['test_multiply_floats']})\n",
    "    else:\n",
    "        ipytest.run_pytest(filename='test_multiply.ipynb', pytest_options=PYTEST_OPTIONS);"
   ]
  },
  {
   "cell_type": "markdown",
   "metadata": {},
   "source": [
    "## Technical Issues <a name=\"technical-issues\"></a>\n",
    "\n",
    "Calls to `ipytest.run_tests()` invoke `unittest.TextTestRunner()`. However, calls to `ipytest.run_pytest()` actually invoke `pytest.main()`. It is advised to only make one call to `pytest.main()` (or any other `main()` function in python) from within a process, due to [python's import caching mechanism](https://github.com/pytest-dev/pytest/issues/3143). How come I have made multiple calls to this function? \n",
    "\n",
    "A notebook is not a python module as it is not imported. Therefore it is perfectly OK to make multiple calls to the main function of *pytest* (or any other ` main()` function in python)."
   ]
  }
 ],
 "metadata": {
  "kernelspec": {
   "display_name": "Python 3",
   "language": "python",
   "name": "python3"
  },
  "language_info": {
   "codemirror_mode": {
    "name": "ipython",
    "version": 3
   },
   "file_extension": ".py",
   "mimetype": "text/x-python",
   "name": "python",
   "nbconvert_exporter": "python",
   "pygments_lexer": "ipython3",
   "version": "3.6.4"
  }
 },
 "nbformat": 4,
 "nbformat_minor": 2
}
