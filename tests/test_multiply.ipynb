{
 "cells": [
  {
   "cell_type": "markdown",
   "metadata": {},
   "source": [
    "# Unit testing in Jupyter notebooks with ipytest: Multiply tests\n",
    "\n",
    "## Table of contents\n",
    "1. [Introduction](#introduction)\n",
    "2. [Setup](#setup)\n",
    "3. [Tests](#tests)\n",
    "3. [Technical Issues](#technical-issues)\n",
    "\n",
    "## Introduction <a name=\"introduction\"></a>\n",
    "\n",
    "**Unit tests** in **Jupyter notebooks** can be run using the excellent [ipytest](https://github.com/chmp/ipytest) package. It supports both [pytest](https://docs.pytest.org/en/latest/) and [unittest](https://docs.python.org/3/library/unittest.html).\n",
    "\n",
    "This *notebook* shows examples of writing tests with both frameworks. A simple example of multiplying two ints or floats is used.\n",
    "\n",
    "To run the tests in this *notebook*, the functions they are testing in [multiply.ipynb](../notebooks/multiply.ipynb) will need to loaded into the same [IPython](https://ipython.readthedocs.io/en/stable/) interactive namespace. The simplest way to do this during development is to use the excellent [JupyterLab](https://github.com/jupyterlab/jupyterlab) computational environment to connect both notebooks to the same [kernel](http://jupyter.readthedocs.io/en/latest/architecture/how_jupyter_ipython_work.html#the-ipython-kernel). This can be achieved through the *Kernel > Change Kernel* option in the JupyterLab user interface. Please see the [JupyterLab documentation](http://jupyterlab.readthedocs.io/en/stable/) for more information on [managing kernels](http://jupyterlab.readthedocs.io/en/stable/user/running.html)."
   ]
  },
  {
   "cell_type": "markdown",
   "metadata": {},
   "source": [
    "## Setup <a name=\"setup\"></a>"
   ]
  },
  {
   "cell_type": "code",
   "execution_count": 3,
   "metadata": {},
   "outputs": [],
   "source": [
    "import unittest\n",
    "\n",
    "import ipytest\n",
    "import numpy.testing as npt\n",
    "import pytest"
   ]
  },
  {
   "cell_type": "markdown",
   "metadata": {},
   "source": [
    "Specify the following options to pass to pytest:\n",
    "\n",
    "* Verbose output\n",
    "* Colored output\n",
    "\n",
    "For more information see [pytest options](http://pytest.readthedocs.io/en/reorganize-docs/new-docs/user/commandlineuseful.html). "
   ]
  },
  {
   "cell_type": "code",
   "execution_count": 4,
   "metadata": {},
   "outputs": [],
   "source": [
    "PYTEST_OPTIONS = ['-v', '--color=yes']"
   ]
  },
  {
   "cell_type": "markdown",
   "metadata": {},
   "source": [
    "Change the following constant to True to specify to run the tests with *unittest* instead of *pytest*. Unittest is very basic and has less options than pytest. **The output is not pretty** and it has **verbose syntax**. I suppose it does have the advantage of shipping with the python standard library, but I still prefer *pytest*."
   ]
  },
  {
   "cell_type": "code",
   "execution_count": 5,
   "metadata": {},
   "outputs": [],
   "source": [
    "UNIT_TEST = False"
   ]
  },
  {
   "cell_type": "markdown",
   "metadata": {},
   "source": [
    "Load some useful utility functions:"
   ]
  },
  {
   "cell_type": "code",
   "execution_count": 6,
   "metadata": {},
   "outputs": [],
   "source": [
    "# %load main_module.py\n",
    "\"\"\"This file must be loaded into a Jupyter notebook (using the `%load` magic) and executed there to work\n",
    "   correctly.\n",
    "   Note: \n",
    "       If it is placed into a module and imported into the notebook then `__name__` will be the module\n",
    "       name and `__file__` will be in the `globals` object.\n",
    "\"\"\"\n",
    "\n",
    "def is_main_module():\n",
    "    \"\"\"Returns whether this notebook is the main module (i.e. not being run from another notebook).Taken from: \n",
    "       https://blog.sicara.com/present-data-science-results-jupyter-notebook-import-into-another-108433bc8505\n",
    "    Returns:\n",
    "        True if this notebook is the main module, False otherwise.\n",
    "    \"\"\"\n",
    "    return __name__ == '__main__' and '__file__' not in globals()"
   ]
  },
  {
   "cell_type": "markdown",
   "metadata": {},
   "source": [
    "If this *notebook* is being run from another *notebook* (which it shouldn't be) or program (i.e. a *test runner* such as *pytest* or *unittest*) then \"run\" the implementation notebook. This is done for import purposes. More to come on this later."
   ]
  },
  {
   "cell_type": "code",
   "execution_count": 7,
   "metadata": {},
   "outputs": [],
   "source": [
    "if not is_main_module():\n",
    "    %run ../notebooks/multiply.ipynb"
   ]
  },
  {
   "cell_type": "markdown",
   "metadata": {},
   "source": [
    "## Tests <a name=\"tests\"></a>\n",
    "\n",
    "It is possible to create test cases at the global level using fixtures to test functions inside of classes. It is also possible to parametrize tests."
   ]
  },
  {
   "cell_type": "code",
   "execution_count": 8,
   "metadata": {},
   "outputs": [
    {
     "name": "stdout",
     "output_type": "stream",
     "text": [
      "\u001b[1m============================= test session starts =============================\u001b[0m\n",
      "platform win32 -- Python 3.6.4, pytest-3.5.1, py-1.5.3, pluggy-0.6.0 -- C:\\Users\\covuworie\\.virtualenvs\\notebook-testing-9WWLULs9\\Scripts\\python.exe\n",
      "cachedir: .pytest_cache\n",
      "rootdir: C:\\Users\\covuworie\\D-Drive\\notebook-testing\\tests, inifile:\n",
      "\u001b[1mcollecting ... \u001b[0mcollected 3 items\n",
      "\n",
      "test_multiply.py::test_multiply[2-2-4] <- <ipython-input-8-22f0b976eb05> \u001b[32mPASSED\u001b[0m\u001b[36m [ 33%]\u001b[0m\n",
      "test_multiply.py::test_multiply[-1-3--3] <- <ipython-input-8-22f0b976eb05> \u001b[32mPASSED\u001b[0m\u001b[36m [ 66%]\u001b[0m\n",
      "test_multiply.py::test_multiply[0-5-0] <- <ipython-input-8-22f0b976eb05> \u001b[32mPASSED\u001b[0m\u001b[36m [100%]\u001b[0m\n",
      "\n",
      "\u001b[32m\u001b[1m========================== 3 passed in 0.07 seconds ===========================\u001b[0m\n"
     ]
    }
   ],
   "source": [
    "if is_main_module():\n",
    "    ipytest.clean_tests(pattern='test_*')\n",
    "    ipytest.clean_tests(pattern='Test*')\n",
    "\n",
    "@pytest.fixture\n",
    "def multiplier():\n",
    "    return Multiply()\n",
    "\n",
    "@pytest.mark.parametrize('a,b,expected', [\n",
    "    (2, 2, 4),\n",
    "    (-1, 3, -3),\n",
    "    (0, 5, 0),\n",
    "])\n",
    "def test_multiply(multiplier, a, b, expected):\n",
    "    multiplier.multiply(a, b) == expected\n",
    "    \n",
    "if is_main_module():\n",
    "    if UNIT_TEST:\n",
    "        ipytest.run_tests(doctest=True, items={'test_multiply': globals()['test_multiply'],\n",
    "                                               'multiply': globals()['multiply']});\n",
    "    else:\n",
    "        ipytest.run_pytest(filename='test_multiply.ipynb', pytest_options=PYTEST_OPTIONS);"
   ]
  },
  {
   "cell_type": "code",
   "execution_count": 9,
   "metadata": {},
   "outputs": [
    {
     "name": "stdout",
     "output_type": "stream",
     "text": [
      "\u001b[1m============================= test session starts =============================\u001b[0m\n",
      "platform win32 -- Python 3.6.4, pytest-3.5.1, py-1.5.3, pluggy-0.6.0 -- C:\\Users\\covuworie\\.virtualenvs\\notebook-testing-9WWLULs9\\Scripts\\python.exe\n",
      "cachedir: .pytest_cache\n",
      "rootdir: C:\\Users\\covuworie\\D-Drive\\notebook-testing\\tests, inifile:\n",
      "\u001b[1mcollecting ... \u001b[0mcollected 1 item\n",
      "\n",
      "test_multiply.py::test_multiply_floats <- <ipython-input-9-3972b686661a> \u001b[32mPASSED\u001b[0m\u001b[36m [100%]\u001b[0m\n",
      "\n",
      "\u001b[32m\u001b[1m========================== 1 passed in 0.03 seconds ===========================\u001b[0m\n"
     ]
    }
   ],
   "source": [
    "if is_main_module():\n",
    "    ipytest.clean_tests(pattern='test_*')\n",
    "    ipytest.clean_tests(pattern='Test*')\n",
    "\n",
    "def test_multiply_floats():\n",
    "    npt.assert_allclose(multiply_floats(0.1, 0.2), 0.02)\n",
    "\n",
    "if is_main_module():\n",
    "    if UNIT_TEST:\n",
    "        ipytest.run_tests(doctest=False, \n",
    "                          items={'test_multiply_floats': globals()['test_multiply_floats']})\n",
    "    else:\n",
    "        ipytest.run_pytest(filename='test_multiply.ipynb', pytest_options=PYTEST_OPTIONS);"
   ]
  },
  {
   "cell_type": "markdown",
   "metadata": {},
   "source": [
    "## Technical Issues <a name=\"technical-issues\"></a>\n",
    "\n",
    "Calls to `ipytest.run_tests()` invoke `unittest.TextTestRunner()`. However, calls to `ipytest.run_pytest()` actually invoke `pytest.main()`. It is advised to only make one call to `pytest.main()` (or any other `main()` function in python) from within a process, due to [python's import caching mechanism](https://github.com/pytest-dev/pytest/issues/3143). How come I have made multiple calls to this function? \n",
    "\n",
    "A notebook is not a python module as it is not imported. Therefore it is perfectly OK to make multiple calls to the main function of *pytest* (or any other ` main()` function in python)."
   ]
  }
 ],
 "metadata": {
  "kernelspec": {
   "display_name": "notebook-testing",
   "language": "python",
   "name": "notebook-testing"
  },
  "language_info": {
   "codemirror_mode": {
    "name": "ipython",
    "version": 3
   },
   "file_extension": ".py",
   "mimetype": "text/x-python",
   "name": "python",
   "nbconvert_exporter": "python",
   "pygments_lexer": "ipython3",
   "version": "3.6.4"
  }
 },
 "nbformat": 4,
 "nbformat_minor": 2
}
