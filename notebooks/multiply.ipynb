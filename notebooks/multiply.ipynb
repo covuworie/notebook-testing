{
 "cells": [
  {
   "cell_type": "markdown",
   "metadata": {},
   "source": [
    "# Unit testing in Jupyter notebooks with ipytest: Multiply implementation\n",
    "\n",
    "## Table of contents\n",
    "1. [Introduction](#introduction)\n",
    "2. [Code](#code)\n",
    "\n",
    "## Introduction <a name=\"introduction\"></a>\n",
    "\n",
    "**Unit tests** in **Jupyter notebooks** can be run using the excellent [ipytest](https://github.com/chmp/ipytest) package. It supports both [pytest](https://docs.pytest.org/en/latest/) and [unittest](https://docs.python.org/3/library/unittest.html).\n",
    "\n",
    "This *notebook* contains simple implementations of multiplying two ints or floats is used."
   ]
  },
  {
   "cell_type": "markdown",
   "metadata": {},
   "source": [
    "## Code <a name=\"code\"></a>"
   ]
  },
  {
   "cell_type": "code",
   "execution_count": 1,
   "metadata": {},
   "outputs": [],
   "source": [
    "class Multiply:\n",
    "    def multiply(self, a, b):\n",
    "        \"\"\"\n",
    "        This is the test:\n",
    "        >>> multiply(2, 2)\n",
    "        4\n",
    "        \"\"\"\n",
    "        return a * b"
   ]
  },
  {
   "cell_type": "code",
   "execution_count": 2,
   "metadata": {},
   "outputs": [],
   "source": [
    "def multiply_floats(a, b):\n",
    "    return a * b"
   ]
  }
 ],
 "metadata": {
  "kernelspec": {
   "display_name": "Python 3",
   "language": "python",
   "name": "python3"
  },
  "language_info": {
   "codemirror_mode": {
    "name": "ipython",
    "version": 3
   },
   "file_extension": ".py",
   "mimetype": "text/x-python",
   "name": "python",
   "nbconvert_exporter": "python",
   "pygments_lexer": "ipython3",
   "version": "3.6.4"
  }
 },
 "nbformat": 4,
 "nbformat_minor": 2
}
