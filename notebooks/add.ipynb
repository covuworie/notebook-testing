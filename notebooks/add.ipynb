{
 "cells": [
  {
   "cell_type": "markdown",
   "metadata": {},
   "source": [
    "# Unit testing in Jupyter notebooks with ipytest: Add implementation\n",
    "\n",
    "## Table of contents\n",
    "1. [Introduction](#introduction)\n",
    "2. [Code](#code)\n",
    "\n",
    "## Introduction <a name=\"introduction\"></a>\n",
    "\n",
    "**Unit tests** in **Jupyter notebooks** can be run using the excellent [ipytest](https://github.com/chmp/ipytest) package. It supports both [pytest](https://docs.pytest.org/en/latest/) and [unittest](https://docs.python.org/3/library/unittest.html).\n",
    "\n",
    "This *notebook* contains simple implementations of adding two ints or floats is used."
   ]
  },
  {
   "cell_type": "markdown",
   "metadata": {},
   "source": [
    "## Code <a name=\"code\"></a>"
   ]
  },
  {
   "cell_type": "code",
   "execution_count": 1,
   "metadata": {},
   "outputs": [],
   "source": [
    "def add(a, b):\n",
    "    \"\"\"\n",
    "    This is the test:\n",
    "    >>> add(2, 2)\n",
    "    4\n",
    "    \"\"\"\n",
    "    return a * b * 2 # oops deliberate error"
   ]
  },
  {
   "cell_type": "code",
   "execution_count": 2,
   "metadata": {},
   "outputs": [],
   "source": [
    "def add_floats(a, b):\n",
    "    \"\"\"\n",
    "    This is the test:\n",
    "    >>> add(2, 2)\n",
    "    6\n",
    "    \"\"\"\n",
    "    return a + b # oops deliberate error"
   ]
  }
 ],
 "metadata": {
  "kernelspec": {
   "display_name": "notebook-testing",
   "language": "python",
   "name": "notebook-testing"
  },
  "language_info": {
   "codemirror_mode": {
    "name": "ipython",
    "version": 3
   },
   "file_extension": ".py",
   "mimetype": "text/x-python",
   "name": "python",
   "nbconvert_exporter": "python",
   "pygments_lexer": "ipython3",
   "version": "3.6.4"
  }
 },
 "nbformat": 4,
 "nbformat_minor": 2
}
