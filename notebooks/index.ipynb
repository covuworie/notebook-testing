{
 "cells": [
  {
   "cell_type": "markdown",
   "metadata": {},
   "source": [
    "# Running unit tests in Jupyter notebooks with ipytest\n",
    "\n",
    "## Introduction <a name=\"introduction\"></a>\n",
    "\n",
    "We can run unit tests in Jupyter notebooks using [ipytest](https://github.com/chmp/ipytest). It supports both [pytest](https://docs.pytest.org/en/latest/) and [unittest](https://docs.python.org/3/library/unittest.html). \n",
    "\n",
    "This repository contains a collection of notebooks illustrating how to do this.\n",
    "\n",
    "## Index\n",
    "1. [Add](add.ipynb)\n",
    "2. [Add Tests](../tests/test_add.ipynb)\n",
    "3. [Multiply](multiply.ipynb)\n",
    "4. [Multiply Tests](../tests/test_multiply.ipynb)\n",
    "5. [ipytest Runner](../tests/ipytest_runner.ipynb)"
   ]
  }
 ],
 "metadata": {
  "kernelspec": {
   "display_name": "Python 3",
   "language": "python",
   "name": "python3"
  },
  "language_info": {
   "codemirror_mode": {
    "name": "ipython",
    "version": 3
   },
   "file_extension": ".py",
   "mimetype": "text/x-python",
   "name": "python",
   "nbconvert_exporter": "python",
   "pygments_lexer": "ipython3",
   "version": "3.6.4"
  }
 },
 "nbformat": 4,
 "nbformat_minor": 2
}
